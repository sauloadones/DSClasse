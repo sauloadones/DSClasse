{
 "cells": [
  {
   "cell_type": "code",
   "execution_count": null,
   "id": "96312d32",
   "metadata": {},
   "outputs": [
    {
     "name": "stdout",
     "output_type": "stream",
     "text": [
      "Index(['datatrimestre', 'valorPix', 'valorTED', 'valorTEC', 'valorCheque',\n",
      "       'valorBoleto', 'valorDOC', 'valorCartaoCredito', 'valorCartaoDebito',\n",
      "       'valorCartaoPrePago', 'valorTransIntrabancaria', 'valorConvenios',\n",
      "       'valorDebitoDireto', 'valorSaques', 'quantidadePix', 'quantidadeTED',\n",
      "       'quantidadeTEC', 'quantidadeCheque', 'quantidadeBoleto',\n",
      "       'quantidadeDOC', 'quantidadeCartaoCredito', 'quantidadeCartaoDebito',\n",
      "       'quantidadeCartaoPrePago', 'quantidadeTransIntrabancaria',\n",
      "       'quantidadeConvenios', 'quantidadeDebitoDireto', 'quantidadeSaques'],\n",
      "      dtype='object')\n",
      "\n",
      "Médias das variáveis numéricas (sem incluir Pix):\n",
      "valorTED                        8.838240e+06\n",
      "valorTEC                        4.017849e+03\n",
      "valorCheque                     2.670580e+05\n",
      "valorBoleto                     1.991933e+06\n",
      "valorDOC                        2.048479e+04\n",
      "valorCartaoCredito              4.448634e+05\n",
      "valorCartaoDebito               2.216744e+05\n",
      "valorCartaoPrePago              4.204402e+04\n",
      "valorTransIntrabancaria         4.771790e+06\n",
      "valorConvenios                  8.432920e+05\n",
      "valorDebitoDireto               6.897501e+05\n",
      "valorSaques                     6.725624e+05\n",
      "quantidadeTED                   2.864225e+05\n",
      "quantidadeTEC                   1.917135e+03\n",
      "quantidadeCheque                7.970546e+04\n",
      "quantidadeBoleto                1.389849e+06\n",
      "quantidadeDOC                   2.729850e+04\n",
      "quantidadeCartaoCredito         3.566431e+06\n",
      "quantidadeCartaoDebito          3.482304e+06\n",
      "quantidadeCartaoPrePago         1.618759e+06\n",
      "quantidadeTransIntrabancaria    3.127498e+05\n",
      "quantidadeConvenios             7.572482e+05\n",
      "quantidadeDebitoDireto          2.174717e+06\n",
      "quantidadeSaques                8.832784e+05\n",
      "dtype: float64\n"
     ]
    }
   ],
   "source": [
    "\"\"\"\n",
    "analise_medias.py\n",
    "\n",
    "Este script realiza a análise exploratória de dados (EDA) do banco SQLite gerado por ETL,\n",
    "focando no cálculo das médias das variáveis numéricas relativas a meios de pagamento,\n",
    "excluindo as variáveis associadas ao Pix.\n",
    "\n",
    "Autor: [Seu Nome]\n",
    "Data: [Data]\n",
    "Disciplina: Análise Exploratória de Dados (EDA)\n",
    "\n",
    "Etapas:\n",
    "- Conectar ao banco de dados SQLite.\n",
    "- Carregar os dados da tabela 'meios_pagamentos_tri'.\n",
    "- Excluir colunas relacionadas a Pix.\n",
    "- Calcular as médias das variáveis numéricas restantes.\n",
    "- Exibir os resultados.\n",
    "\n",
    "\"\"\"\n",
    "\n",
    "\n",
    "import pandas as pd\n",
    "import sqlite3\n",
    "conn = sqlite3.connect('src/datasets/etlbcb.db')\n",
    "df = pd.read_sql_query(\"SELECT * FROM meios_pagamentos_tri\", conn)\n",
    "print(df.columns)\n",
    "\n",
    "colunas_sem_pix = [col for col in df.columns if 'pix' not in col.lower()]\n",
    "\n",
    "df_sem_pix = df[colunas_sem_pix]\n",
    "\n",
    "medias_sem_pix = df_sem_pix.mean(numeric_only=True)\n",
    "\n",
    "print(\"\\nMédias das variáveis numéricas (sem incluir Pix):\")\n",
    "print(medias_sem_pix)\n",
    "\n",
    "\n",
    "conn.close()"
   ]
  },
  {
   "cell_type": "code",
   "execution_count": null,
   "id": "c1bd6acd",
   "metadata": {},
   "outputs": [],
   "source": []
  }
 ],
 "metadata": {
  "kernelspec": {
   "display_name": "base",
   "language": "python",
   "name": "python3"
  },
  "language_info": {
   "name": "python",
   "version": "3.11.7"
  }
 },
 "nbformat": 4,
 "nbformat_minor": 5
}
